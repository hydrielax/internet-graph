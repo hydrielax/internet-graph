{
 "cells": [
  {
   "attachments": {},
   "cell_type": "markdown",
   "metadata": {},
   "source": [
    "# Jupy pour traiter et réduire la taille de graph.txt"
   ]
  },
  {
   "cell_type": "code",
   "execution_count": 1,
   "metadata": {},
   "outputs": [],
   "source": [
    "states = []\n",
    "allStatesDic = {}\n",
    "\n",
    "with open('graph.txt') as f:\n",
    "    for line in f:\n",
    "        urls = line.split(' ')\n",
    "        allStatesDic[urls[0]] = len(allStatesDic)\n",
    "        states.append(urls[0])"
   ]
  },
  {
   "cell_type": "code",
   "execution_count": 2,
   "metadata": {},
   "outputs": [],
   "source": [
    "import numpy as np\n",
    "\n",
    "allSuccesseurss = []\n",
    "\n",
    "with open('graph.txt') as f:\n",
    "    for line in f:\n",
    "        successeurs = []\n",
    "        urls = line.split(' ')\n",
    "        for url in urls[1:]:\n",
    "            if url not in allStatesDic.keys():\n",
    "                allStatesDic[url] = len(allStatesDic)\n",
    "            successeurs.append(allStatesDic[url])\n",
    "        \n",
    "        allSuccesseurss.append(np.array(list(set(successeurs)), dtype=np.uint32))\n",
    "\n",
    "allSuccesseurss = np.array(allSuccesseurss, dtype=object)"
   ]
  },
  {
   "cell_type": "code",
   "execution_count": 5,
   "metadata": {},
   "outputs": [],
   "source": [
    "allStates = [0]*len(allStatesDic)\n",
    "\n",
    "for url in allStatesDic.keys():\n",
    "    allStates[allStatesDic[url]] = url"
   ]
  },
  {
   "cell_type": "code",
   "execution_count": 12,
   "metadata": {},
   "outputs": [],
   "source": [
    "successeurss = []\n",
    "\n",
    "for l in allSuccesseurss:\n",
    "    successeurss.append(np.copy(l[l < len(states)]))"
   ]
  },
  {
   "attachments": {},
   "cell_type": "markdown",
   "metadata": {},
   "source": [
    "Si on garde toutes les arrêtes, même celles qui ne pointent pas vers une page visitée (le parcourt en largeur a été interrompu + des liens ne pointent pas vers des pages wikipédia mais vers des fichiers par exemple) :"
   ]
  },
  {
   "cell_type": "code",
   "execution_count": 6,
   "metadata": {},
   "outputs": [
    {
     "name": "stdout",
     "output_type": "stream",
     "text": [
      "2.435 millions de pages parsées\n",
      "14.646 millions d'urls découverts\n",
      "235.854 millions d'arrêtes\n"
     ]
    }
   ],
   "source": [
    "print(f'{len(states) / 1e6:.3f} millions de pages parsées')\n",
    "print(f'{len(allStates) / 1e6:.3f} millions d\\'urls découverts')\n",
    "print(f'{sum([len(l) for l in allSuccesseurss])  / 1e6:.3f} millions d\\'arrêtes')\n"
   ]
  },
  {
   "attachments": {},
   "cell_type": "markdown",
   "metadata": {},
   "source": [
    "Si on ne garde que les arrêtes qui pointent vers des pages visitées :"
   ]
  },
  {
   "cell_type": "code",
   "execution_count": 13,
   "metadata": {},
   "outputs": [
    {
     "name": "stdout",
     "output_type": "stream",
     "text": [
      "2.435 millions de pages parsées\n",
      "77.132 millions d'arrêtes\n"
     ]
    }
   ],
   "source": [
    "print(f'{len(states) / 1e6:.3f} millions de pages parsées')\n",
    "print(f'{sum([len(l) for l in successeurss])  / 1e6:.3f} millions d\\'arrêtes')"
   ]
  },
  {
   "cell_type": "code",
   "execution_count": 14,
   "metadata": {},
   "outputs": [],
   "source": [
    "import pickle\n",
    "with open('data/allSuccesseurss.pk', 'wb') as f:\n",
    "    pickle.dump(allSuccesseurss, f)\n",
    "\n",
    "with open('data/allStatesDic.pk', 'wb') as f:\n",
    "    pickle.dump(allStatesDic, f)\n",
    "\n",
    "with open('data/allStates.pk', 'wb') as f:\n",
    "    pickle.dump(allStates, f)\n",
    "\n",
    "with open('data/states.pk', 'wb') as f:\n",
    "    pickle.dump(states, f)\n",
    "\n",
    "with open('data/successeurss.pk', 'wb') as f:\n",
    "    pickle.dump(successeurss, f)"
   ]
  },
  {
   "cell_type": "code",
   "execution_count": 2,
   "metadata": {},
   "outputs": [],
   "source": [
    "import pickle\n",
    "\n",
    "with open('data/allSuccesseurss.pk', 'rb') as f:\n",
    "    allSuccesseurss = pickle.load(f)"
   ]
  },
  {
   "cell_type": "code",
   "execution_count": 1,
   "metadata": {},
   "outputs": [],
   "source": [
    "import pickle\n",
    "\n",
    "with open('data/states.pk', 'rb') as f:\n",
    "    states = pickle.load(f)"
   ]
  },
  {
   "cell_type": "code",
   "execution_count": 2,
   "metadata": {},
   "outputs": [],
   "source": [
    "import pickle\n",
    "\n",
    "with open('data/successeurss.pk', 'rb') as f:\n",
    "    successeurss = pickle.load(f)"
   ]
  },
  {
   "cell_type": "code",
   "execution_count": null,
   "metadata": {},
   "outputs": [],
   "source": []
  }
 ],
 "metadata": {
  "kernelspec": {
   "display_name": "base",
   "language": "python",
   "name": "python3"
  },
  "language_info": {
   "codemirror_mode": {
    "name": "ipython",
    "version": 3
   },
   "file_extension": ".py",
   "mimetype": "text/x-python",
   "name": "python",
   "nbconvert_exporter": "python",
   "pygments_lexer": "ipython3",
   "version": "3.10.9"
  },
  "orig_nbformat": 4
 },
 "nbformat": 4,
 "nbformat_minor": 2
}
