{
 "cells": [
  {
   "attachments": {},
   "cell_type": "markdown",
   "metadata": {},
   "source": [
    "# Graphe d'internet appliqué à Wikipedia"
   ]
  },
  {
   "cell_type": "code",
   "execution_count": 1,
   "metadata": {},
   "outputs": [],
   "source": [
    "from webparser import WebParser\n",
    "from functools import reduce"
   ]
  },
  {
   "cell_type": "code",
   "execution_count": null,
   "metadata": {},
   "outputs": [],
   "source": [
    "wp = WebParser(source='https://fr.wikipedia.org/wiki/Wikip%C3%A9dia:Accueil_principal', same_site=True)"
   ]
  },
  {
   "attachments": {},
   "cell_type": "markdown",
   "metadata": {},
   "source": [
    "askMaintenance est une manière de demander au kernel de stopper son exécution à un bon moment. Pour cela, il suffit d'écrire nimporte quoi dans le fichier `askMaintenance` et de le sauvegarder."
   ]
  },
  {
   "cell_type": "code",
   "execution_count": null,
   "metadata": {},
   "outputs": [],
   "source": [
    "askMaintenance = False\n",
    "\n",
    "while not askMaintenance and len(wp.next_urls) > 0:\n",
    "    for _ in range(10):\n",
    "        wp.fetch_process_next_url_batch(batch_size=1000)\n",
    "\n",
    "    wp.flush_graph_buffer()\n",
    "    with open('askMaintenance') as f: askMaintenance = len(f.readlines()) > 0"
   ]
  },
  {
   "cell_type": "code",
   "execution_count": 3,
   "metadata": {},
   "outputs": [
    {
     "name": "stdout",
     "output_type": "stream",
     "text": [
      "Number of sites: 8638\n"
     ]
    }
   ],
   "source": [
    "# print(f\"Number of sites: {len(wp.graph)}\")"
   ]
  },
  {
   "cell_type": "code",
   "execution_count": 4,
   "metadata": {},
   "outputs": [
    {
     "name": "stdout",
     "output_type": "stream",
     "text": [
      "Url avec le plus d'arrêtes sortantes: https://fr.wikipedia.org/wiki/Portail:Route (12901)\n"
     ]
    }
   ],
   "source": [
    "# max_out_url = max(wp.graph, key=lambda k: len(wp.graph[k]))\n",
    "# print(f\"Url avec le plus d'arrêtes sortantes: {max_out_url} ({len(wp.graph[max_out_url])})\")"
   ]
  },
  {
   "cell_type": "code",
   "execution_count": 5,
   "metadata": {},
   "outputs": [
    {
     "name": "stdout",
     "output_type": "stream",
     "text": [
      "Url avec le plus d'arrêtes entrantes: https://fr.wikipedia.org/w/index.php (507602)\n"
     ]
    }
   ],
   "source": [
    "# max_in_url = max(wp.graph, key=lambda k: reduce(lambda s, i: s+len([u for u in wp.graph[i] if u==k]), wp.graph, 0))\n",
    "# print(f\"Url avec le plus d'arrêtes entrantes: {max_in_url} ({reduce(lambda s, i: s+len([u for u in wp.graph[i] if u==max_in_url]), wp.graph, 0)})\")"
   ]
  }
 ],
 "metadata": {
  "kernelspec": {
   "display_name": "Python 3",
   "language": "python",
   "name": "python3"
  },
  "language_info": {
   "codemirror_mode": {
    "name": "ipython",
    "version": 3
   },
   "file_extension": ".py",
   "mimetype": "text/x-python",
   "name": "python",
   "nbconvert_exporter": "python",
   "pygments_lexer": "ipython3",
   "version": "3.10.9"
  },
  "orig_nbformat": 4,
  "vscode": {
   "interpreter": {
    "hash": "916dbcbb3f70747c44a77c7bcd40155683ae19c65e1c03b4aa3499c5328201f1"
   }
  }
 },
 "nbformat": 4,
 "nbformat_minor": 2
}
